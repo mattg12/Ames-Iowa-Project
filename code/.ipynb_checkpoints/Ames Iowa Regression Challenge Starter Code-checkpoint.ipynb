{
 "cells": [
  {
   "cell_type": "markdown",
   "metadata": {},
   "source": [
    "# Matthew Garton\n",
    "# Regression Project - Starter Code\n",
    "\n",
    "### Purpose: \"Messy\" Notebook for keeping general notes, tinkering, experimentation, etc...\n",
    "\n",
    "This notebook gives a useful view into my work process and highlights the early steps I took to familiarize myself with the data and ultimately develop my data cleaning function. I would recommend reading up to where I defined the clean_ames_data() function, then moving on to the EDA notebook, followed by the Feature Engineering and Model Design book. The Data Handling Functions notebook is meant to serve as a reference and a template for a more systematic workflow."
   ]
  },
  {
   "cell_type": "code",
   "execution_count": null,
   "metadata": {},
   "outputs": [],
   "source": [
    "# import necessary modules\n",
    "import pandas as pd\n",
    "import numpy as np\n",
    "import matplotlib\n",
    "import matplotlib.pyplot as plt\n",
    "import seaborn as sns\n",
    "import sklearn.metrics as metrics\n",
    "import sklearn.linear_model as linear_model\n",
    "from sklearn.model_selection import train_test_split, KFold, cross_val_score\n",
    "from sklearn.preprocessing import PolynomialFeatures, StandardScaler\n",
    "\n",
    "sns.set_style('darkgrid')\n",
    "%config InlineBackend.figure_format = 'retina'\n",
    "%matplotlib inline"
   ]
  },
  {
   "cell_type": "code",
   "execution_count": null,
   "metadata": {},
   "outputs": [],
   "source": [
    "# write a function to handle basic data inspection\n",
    "def inspect_data(df):\n",
    "    '''Perfrom basic data inspection tasks, provide user with readable output'''\n",
    "    print('Shape: {}\\n'.format(df.shape))\n",
    "    print(df.info(),'\\n') "
   ]
  },
  {
   "cell_type": "code",
   "execution_count": null,
   "metadata": {},
   "outputs": [],
   "source": [
    "# load training data\n",
    "ames = pd.read_csv(\"../data/train.csv\")\n",
    "\n",
    "# inspect the data\n",
    "inspect_data(ames)\n",
    "\n",
    "# convert column names to useable format\n",
    "ames.columns = [x.lower().replace(' ','_') for x in ames.columns]"
   ]
  },
  {
   "cell_type": "markdown",
   "metadata": {},
   "source": [
    "For categorical columns other than mason veneer type, it seems clear that the categorical value 'NA' has been treated as nan. It should be a simple exercise to handle these by replacing nan's with the value 'NA.' I am going to make the assumption that the Masonry Veneer Type entries of NaN should be values of 'None', as there is no value for 'Masonry Veneer Area' for those entries. I will replace such entries with 'None' for Masonry Veneer Type and 0.0 for Masonry Veneer Area. This affects 22 entries out of 2051, or 1% of the data."
   ]
  },
  {
   "cell_type": "code",
   "execution_count": null,
   "metadata": {},
   "outputs": [],
   "source": [
    "ames['mas_vnr_type'].fillna(value = 'None', inplace = True) # Assuming 'NaN' should be 'None' for Masonry Type"
   ]
  },
  {
   "cell_type": "code",
   "execution_count": null,
   "metadata": {},
   "outputs": [],
   "source": [
    "ames['mas_vnr_area'].fillna(value = 0.0, inplace = True) # Assuming masonry area is 0.0 for houses with 'NaN' type"
   ]
  },
  {
   "cell_type": "code",
   "execution_count": null,
   "metadata": {},
   "outputs": [],
   "source": [
    "# filtering for columns which contain null values\n",
    "nulls = ames.columns[ames.isnull().any()]\n",
    "ames[nulls].head()"
   ]
  },
  {
   "cell_type": "code",
   "execution_count": null,
   "metadata": {},
   "outputs": [],
   "source": [
    "# for categorical variables, the null values are should actually be marked 'NA'\n",
    "# they aren't missing data, they are values of 'NA' for the category in question\n",
    "for col in ames[nulls].select_dtypes(include = 'object').columns:\n",
    "    ames[col].fillna(value = 'NA', inplace = True)"
   ]
  },
  {
   "cell_type": "code",
   "execution_count": null,
   "metadata": {},
   "outputs": [],
   "source": [
    "# filtering for houses with no basement\n",
    "no_bsmt = ames['bsmt_qual'] == 'NA'\n",
    "ames[no_bsmt].filter(regex = 'bsmt')\n",
    " \n",
    "# filling 'NaNs' in numerical columns for houses with no basement with 0.0\n",
    "for col in ames[no_bsmt].filter(regex = 'bsmt'):\n",
    "    ames[col].fillna(value = 0.0, inplace = True)"
   ]
  },
  {
   "cell_type": "code",
   "execution_count": null,
   "metadata": {},
   "outputs": [],
   "source": [
    "# filtering for houses with no garage\n",
    "no_garage = ames['garage_type'] == 'NA'\n",
    "\n",
    "# filling 'NaNs' in numerical columns for houses with no garage with 0.0\n",
    "for col in ames[no_garage].filter(regex = 'garage'):\n",
    "    ames[col].fillna(value = 0.0, inplace = True)"
   ]
  },
  {
   "cell_type": "markdown",
   "metadata": {},
   "source": [
    "NOTE: Potential problem here - setting a value of 0.0 for garage year built. Will mess up results if you're trying to use garage year built as a predictor."
   ]
  },
  {
   "cell_type": "code",
   "execution_count": null,
   "metadata": {},
   "outputs": [],
   "source": [
    "# Take a look at 'garage year' data\n",
    "sns.distplot(ames.garage_yr_blt);"
   ]
  },
  {
   "cell_type": "code",
   "execution_count": null,
   "metadata": {},
   "outputs": [],
   "source": [
    "(ames.garage_yr_blt == 0).sum()"
   ]
  },
  {
   "cell_type": "code",
   "execution_count": null,
   "metadata": {},
   "outputs": [],
   "source": [
    "# taking a look at lot frontage\n",
    "nulls = ames.columns[ames.isnull().any()]\n",
    "print(ames['lot_frontage'].isnull().sum())\n",
    "\n",
    "not_null = ames['lot_frontage'].isnull() == False\n",
    "sns.distplot(ames[not_null]['lot_frontage'])"
   ]
  },
  {
   "cell_type": "code",
   "execution_count": null,
   "metadata": {},
   "outputs": [],
   "source": [
    "ames['lot_frontage'].describe()"
   ]
  },
  {
   "cell_type": "markdown",
   "metadata": {},
   "source": [
    "15% of my data has a missing value for Lot Frontage. It is likely that I cannot use this variable as a predictor in my model."
   ]
  },
  {
   "cell_type": "markdown",
   "metadata": {},
   "source": [
    "I have a hunch that the basement 'NaN's are for houses with no basement. I'll explore that here."
   ]
  },
  {
   "cell_type": "code",
   "execution_count": null,
   "metadata": {},
   "outputs": [],
   "source": [
    "# Take a look at null values again..\n",
    "nulls = ames.columns[ames.isnull().any()]\n",
    "ames[nulls].columns"
   ]
  },
  {
   "cell_type": "code",
   "execution_count": null,
   "metadata": {},
   "outputs": [],
   "source": [
    "#unf = ames.bsmtfin_type_1 == 'Unf'\n",
    "#ames[unf].filter(regex = 'bsmt')"
   ]
  },
  {
   "cell_type": "code",
   "execution_count": null,
   "metadata": {},
   "outputs": [],
   "source": [
    "# write a function to clean data\n",
    "\n",
    "def clean_ames_data(df):\n",
    "    '''Generalized function to clean a sample of Ames Housing Data'''\n",
    "    \n",
    "    # convert column names to useable format\n",
    "    df.columns = [x.lower().replace(' ','_') for x in df.columns]\n",
    "    \n",
    "    # drop 'id' and 'pid' columns\n",
    "    #df.drop(['id','pid'], axis=1, inplace=True)\n",
    "\n",
    "    # Dealing with NaN values. Handling the special case of Masonry Veneer Type first\n",
    "    \n",
    "    df['mas_vnr_type'].fillna(value = 'None', inplace = True) # Assuming 'NaN' should be 'None' for Masonry Type\n",
    "    df['mas_vnr_area'].fillna(value = 0.0, inplace = True) # Assuming masonry area is 0.0 for houses with 'NaN' type\n",
    "    \n",
    "    # for categorical variables, the missing values should actually be marked 'NA'\n",
    "    nulls = df.columns[df.isnull().any()]\n",
    "    for col in df[nulls].select_dtypes(include = 'object').columns:\n",
    "        df[col].fillna(value = 'NA', inplace = True)\n",
    "    \n",
    "    # filtering for houses with no basement, replacing numerical columns 'NaNs' with 0.0\n",
    "    no_bsmt = df['bsmt_qual'] == 'NA'    \n",
    "    for col in df[no_bsmt].filter(regex = 'bsmt'):\n",
    "        df[col].fillna(value = 0.0, inplace = True)\n",
    "        \n",
    "    # use the same procedure to handle numerical columns for houses with no garage\n",
    "    no_garage = df['garage_type'] == 'NA' \n",
    "    for col in df[no_garage].filter(regex = 'garage'):\n",
    "        df[col].fillna(value = 0.0, inplace = True)\n"
   ]
  },
  {
   "cell_type": "code",
   "execution_count": null,
   "metadata": {},
   "outputs": [],
   "source": [
    "# clean the data\n",
    "clean_ames_data(ames)"
   ]
  },
  {
   "cell_type": "code",
   "execution_count": null,
   "metadata": {},
   "outputs": [],
   "source": [
    "sns.distplot(ames['garage_yr_blt']);"
   ]
  },
  {
   "cell_type": "code",
   "execution_count": null,
   "metadata": {},
   "outputs": [],
   "source": [
    "# re-inspect the data\n",
    "inspect_data(ames)"
   ]
  },
  {
   "cell_type": "markdown",
   "metadata": {},
   "source": [
    "# Note to Reader\n",
    "\n",
    "Everything below here is a rough draft - a 'messy' version of the rest of the workflow. The other notebooks in this project are cleaner, better representations of my EDA, Feature Selection, and Modeling processes."
   ]
  },
  {
   "cell_type": "code",
   "execution_count": null,
   "metadata": {},
   "outputs": [],
   "source": [
    "# Split data into X an y\n",
    "X = ames.loc[:,ames.columns != 'saleprice']\n",
    "y = ames['saleprice']"
   ]
  },
  {
   "cell_type": "code",
   "execution_count": null,
   "metadata": {},
   "outputs": [],
   "source": [
    "# Train-test split before EDA\n",
    "X_train, X_test, y_train, y_test = train_test_split(X, y, random_state = 42) "
   ]
  },
  {
   "cell_type": "code",
   "execution_count": null,
   "metadata": {},
   "outputs": [],
   "source": [
    "inspect_data(ames.select_dtypes(include = 'object'))"
   ]
  },
  {
   "cell_type": "code",
   "execution_count": null,
   "metadata": {},
   "outputs": [],
   "source": [
    "ames.nunique()"
   ]
  },
  {
   "cell_type": "markdown",
   "metadata": {},
   "source": [
    "Time for some Exploratory Data Analysis (on my training data only).\n",
    "\n",
    "Tools to use\n",
    "\n",
    "1. describe  \n",
    "2. distplots  \n",
    "3. heatmap  \n",
    "4. pairplots  "
   ]
  },
  {
   "cell_type": "code",
   "execution_count": null,
   "metadata": {},
   "outputs": [],
   "source": [
    "ames.describe().T"
   ]
  },
  {
   "cell_type": "code",
   "execution_count": null,
   "metadata": {},
   "outputs": [],
   "source": [
    "sns.distplot(ames['pid'])"
   ]
  },
  {
   "cell_type": "code",
   "execution_count": null,
   "metadata": {},
   "outputs": [],
   "source": [
    "ames.head()"
   ]
  },
  {
   "cell_type": "code",
   "execution_count": null,
   "metadata": {},
   "outputs": [],
   "source": [
    "ames_corr = ames.corr()\n",
    "ames_corr"
   ]
  },
  {
   "cell_type": "code",
   "execution_count": null,
   "metadata": {},
   "outputs": [],
   "source": [
    "# Set the default matplotlib figure size to 7x7:\n",
    "fig, ax = plt.subplots(figsize = (7,7))\n",
    "\n",
    "# Generate a mask for the upper triangle (taken from seaborn example gallery)\n",
    "mask = np.zeros_like(ames_corr, dtype = np.bool)\n",
    "mask[np.triu_indices_from(mask)] = True\n",
    "\n",
    "# Plot the heatmap with seaborn.\n",
    "# Assign the matplotlib axis the function returns. This will let us resize the labels.\n",
    "ax = sns.heatmap(ames_corr, mask = mask, ax = ax, cmap = 'coolwarm')\n",
    "\n",
    "# Resize the labels.\n",
    "ax.set_xticklabels(ax.xaxis.get_ticklabels(), fontsize = 14)\n",
    "ax.set_yticklabels(ax.yaxis.get_ticklabels(), fontsize = 14)\n",
    "\n",
    "# If you put plt.show() at the bottom, it prevents those useless printouts from matplotlib.\n",
    "plt.show()"
   ]
  },
  {
   "cell_type": "code",
   "execution_count": null,
   "metadata": {},
   "outputs": [],
   "source": [
    "sns.heatmap(ames[['lot_area','year_built','yr_sold','1st_flr_sf','2nd_flr_sf','saleprice']].corr(), cmap = 'coolwarm')"
   ]
  },
  {
   "cell_type": "code",
   "execution_count": null,
   "metadata": {},
   "outputs": [],
   "source": [
    "sns.pairplot(ames[['lot_area','year_built','yr_sold','1st_flr_sf','2nd_flr_sf','saleprice']])"
   ]
  },
  {
   "cell_type": "code",
   "execution_count": null,
   "metadata": {},
   "outputs": [],
   "source": [
    "sns.heatmap(ames[['full_bath','half_bath','bedroom_abvgr','kitchen_abvgr','fireplaces','saleprice']].corr(), cmap = 'coolwarm')"
   ]
  },
  {
   "cell_type": "code",
   "execution_count": null,
   "metadata": {},
   "outputs": [],
   "source": [
    "sns.pairplot(ames[['full_bath','half_bath','bedroom_abvgr','kitchen_abvgr','fireplaces','saleprice']]);"
   ]
  },
  {
   "cell_type": "code",
   "execution_count": null,
   "metadata": {},
   "outputs": [],
   "source": [
    "sns.pairplot(ames[['overall_qual','overall_cond','saleprice']]);"
   ]
  },
  {
   "cell_type": "code",
   "execution_count": null,
   "metadata": {},
   "outputs": [],
   "source": [
    "sns.heatmap(ames[['overall_qual','overall_cond','saleprice']].corr(), cmap = 'coolwarm')"
   ]
  },
  {
   "cell_type": "code",
   "execution_count": null,
   "metadata": {},
   "outputs": [],
   "source": [
    "ames.select_dtypes(include = 'int64').info()"
   ]
  },
  {
   "cell_type": "code",
   "execution_count": null,
   "metadata": {},
   "outputs": [],
   "source": [
    "sns.distplot(ames['saleprice']);"
   ]
  },
  {
   "cell_type": "code",
   "execution_count": null,
   "metadata": {},
   "outputs": [],
   "source": [
    "subset = ames[['lot_area','full_bath','half_bath','bedroom_abvgr','totrms_abvgrd','saleprice']]\n",
    "\n",
    "sns.pairplot(subset)"
   ]
  },
  {
   "cell_type": "markdown",
   "metadata": {},
   "source": [
    "Lot area, full baths, bedrooms above ground, and total rooms above ground appear to be correlated to sale price. Half baths not so much."
   ]
  },
  {
   "cell_type": "code",
   "execution_count": null,
   "metadata": {},
   "outputs": [],
   "source": [
    "subset2 = ames[['overall_qual','overall_cond','saleprice']]\n",
    "sns.pairplot(subset2)"
   ]
  },
  {
   "cell_type": "markdown",
   "metadata": {},
   "source": [
    "Unsurprisingly, overall quality and overall condition appear to be strongly correlated to saleprice. They are highly correlated with each other, so I may need to think about potential multicollinearity here."
   ]
  },
  {
   "cell_type": "code",
   "execution_count": null,
   "metadata": {},
   "outputs": [],
   "source": [
    "from sklearn.linear_model import LinearRegression"
   ]
  },
  {
   "cell_type": "code",
   "execution_count": null,
   "metadata": {},
   "outputs": [],
   "source": [
    "from sklearn.linear_model import RidgeCV, Ridge\n",
    "from sklearn.preprocessing import StandardScaler"
   ]
  },
  {
   "cell_type": "code",
   "execution_count": null,
   "metadata": {},
   "outputs": [],
   "source": [
    "# Create a simple model\n",
    "features = ['lot_area','full_bath','half_bath','bedroom_abvgr','totrms_abvgrd',\n",
    "            'overall_qual','overall_cond']\n",
    "\n",
    "X = ames[features]\n",
    "y = ames['saleprice']\n",
    "\n",
    "# train test split\n",
    "X_train, X_test, y_train, y_test = train_test_split(X, y, random_state = 42) \n",
    "\n",
    "lr = LinearRegression()"
   ]
  },
  {
   "cell_type": "code",
   "execution_count": null,
   "metadata": {},
   "outputs": [],
   "source": [
    "# Create a new simple model\n",
    "features = ['full_bath','half_bath','bedroom_abvgr','totrms_abvgrd',\n",
    "            'overall_qual','overall_cond','fireplaces','year_built','fireplaces','1st_flr_sf','2nd_flr_sf']\n",
    "\n",
    "X = ames[features]\n",
    "y = ames['saleprice']\n",
    "\n",
    "# train test split\n",
    "X_train, X_test, y_train, y_test = train_test_split(X, y, random_state = 42) \n",
    "\n",
    "lr = LinearRegression()"
   ]
  },
  {
   "cell_type": "code",
   "execution_count": null,
   "metadata": {},
   "outputs": [],
   "source": [
    "# Add Polynomial Features to my model\n",
    "features = ['full_bath','half_bath','bedroom_abvgr','totrms_abvgrd',\n",
    "            'overall_qual','overall_cond','fireplaces','year_built','fireplaces','1st_flr_sf','2nd_flr_sf']\n",
    "\n",
    "poly = PolynomialFeatures(include_bias = False)\n",
    "\n",
    "X = ames[features]\n",
    "y = ames['saleprice']\n",
    "\n",
    "X_poly = poly.fit_transform(X)\n",
    "\n",
    "# train test split\n",
    "X_train, X_test, y_train, y_test = train_test_split(X_poly, y, random_state = 42) \n",
    "\n",
    "lr = LinearRegression()"
   ]
  },
  {
   "cell_type": "code",
   "execution_count": null,
   "metadata": {},
   "outputs": [],
   "source": [
    "# Add Polynomial Features to my model, add more variables, and use Ridge\n",
    "features = ['full_bath','half_bath','bedroom_abvgr','totrms_abvgrd',\n",
    "            'overall_qual','overall_cond','fireplaces','year_built','fireplaces','1st_flr_sf','2nd_flr_sf','garage_cars','garage_area']\n",
    "\n",
    "poly = PolynomialFeatures(include_bias = False)\n",
    "\n",
    "X = ames[features]\n",
    "y = ames['saleprice']\n",
    "\n",
    "X_poly = poly.fit_transform(X)\n",
    "\n",
    "# train test split\n",
    "X_train, X_test, y_train, y_test = train_test_split(X_poly, y, random_state = 42) \n",
    "\n",
    "# scale the predictors\n",
    "ss = StandardScaler()\n",
    "ss.fit(X_train)\n",
    "X_train_scaled = ss.transform(X_train)\n",
    "X_test_scaled = ss.transform(X_test)\n",
    "\n",
    "r_alphas = np.logspace(0, 5, 200)\n",
    "ridge_model = RidgeCV(alphas=r_alphas, store_cv_values=True)\n",
    "ridge_model = ridge_model.fit(X_train_scaled, y_train)\n",
    "r_optimal_alpha = ridge_model.alphas\n",
    "\n",
    "ridge_opt = Ridge(alpha=r_optimal_alpha)\n",
    "ridge_opt.fit(X_train_scaled, y_train)"
   ]
  },
  {
   "cell_type": "code",
   "execution_count": null,
   "metadata": {},
   "outputs": [],
   "source": [
    "# Add more numeric variables - see what happens\n",
    "#features = ['lot_area','mas_vnr_area','kitchen_abvgr','garage_cars','garage_area','full_bath','half_bath','bedroom_abvgr','totrms_abvgrd',\n",
    "            'overall_qual','overall_cond','fireplaces','year_built','yr_sold','fireplaces','1st_flr_sf','2nd_flr_sf']\n",
    "\n",
    "#poly = PolynomialFeatures(include_bias = False)\n",
    "\n",
    "#X = ames[features]\n",
    "#y = ames['saleprice']\n",
    "\n",
    "#X_poly = poly.fit_transform(X)\n",
    "\n",
    "# train test split\n",
    "#X_train, X_test, y_train, y_test = train_test_split(X_poly, y, random_state = 42) \n",
    "\n",
    "#lr = LinearRegression()"
   ]
  },
  {
   "cell_type": "code",
   "execution_count": null,
   "metadata": {},
   "outputs": [],
   "source": [
    "ames.shape"
   ]
  },
  {
   "cell_type": "code",
   "execution_count": null,
   "metadata": {},
   "outputs": [],
   "source": [
    "ames = pd.get_dummies(ames, columns = ['neighborhood', 'bldg_type', 'house_style'], drop_first = True)\n",
    "ames.shape"
   ]
  },
  {
   "cell_type": "code",
   "execution_count": null,
   "metadata": {},
   "outputs": [],
   "source": [
    "ames.filter(regex = 'neighborhood').columns"
   ]
  },
  {
   "cell_type": "code",
   "execution_count": null,
   "metadata": {},
   "outputs": [],
   "source": [
    "# Try to add dummy variables to data trying with polynomial\n",
    "features = ['full_bath','half_bath','bedroom_abvgr','totrms_abvgrd',\n",
    "            'overall_qual','overall_cond','fireplaces','year_built','fireplaces','1st_flr_sf','2nd_flr_sf','bldg_type_2fmCon','bldg_type_Duplex', 'bldg_type_Twnhs', 'bldg_type_TwnhsE',\n",
    "       'house_style_1.5Unf', 'house_style_1Story', 'house_style_2.5Fin',\n",
    "       'house_style_2.5Unf', 'house_style_2Story', 'house_style_SFoyer',\n",
    "       'house_style_SLvl']\n",
    "\n",
    "poly = PolynomialFeatures(include_bias = False)\n",
    "\n",
    "X = ames[features]\n",
    "y = ames['saleprice']\n",
    "\n",
    "X_poly = poly.fit_transform(X)"
   ]
  },
  {
   "cell_type": "code",
   "execution_count": null,
   "metadata": {},
   "outputs": [],
   "source": [
    "# Try to add dummy variables to data trying with polynomial\n",
    "features = ['full_bath','half_bath','bedroom_abvgr','totrms_abvgrd',\n",
    "            'overall_qual','overall_cond','fireplaces','year_built','fireplaces','1st_flr_sf','2nd_flr_sf','bldg_type_2fmCon','bldg_type_Duplex', 'bldg_type_Twnhs', 'bldg_type_TwnhsE',\n",
    "       'house_style_1.5Unf', 'house_style_1Story', 'house_style_2.5Fin',\n",
    "       'house_style_2.5Unf', 'house_style_2Story', 'house_style_SFoyer',\n",
    "       'house_style_SLvl','garage_cars','garage_area']\n",
    "\n",
    "poly = PolynomialFeatures(include_bias = False)\n",
    "\n",
    "X = ames[features]\n",
    "y = ames['saleprice']\n",
    "\n",
    "X_poly = poly.fit_transform(X)"
   ]
  },
  {
   "cell_type": "code",
   "execution_count": null,
   "metadata": {},
   "outputs": [],
   "source": [
    "# Another attempt with no polynomials \n",
    "features = ['full_bath','half_bath','bedroom_abvgr','totrms_abvgrd',\n",
    "            'overall_qual','overall_cond','fireplaces','year_built','fireplaces','1st_flr_sf','2nd_flr_sf','garage_cars','garage_area']\n",
    "\n",
    "poly = PolynomialFeatures(include_bias = False)\n",
    "\n",
    "X = ames[features]\n",
    "y = ames['saleprice']\n",
    "\n",
    "X_poly = poly.fit_transform(X)"
   ]
  },
  {
   "cell_type": "code",
   "execution_count": null,
   "metadata": {},
   "outputs": [],
   "source": [
    "# train test split\n",
    "X_train, X_test, y_train, y_test = train_test_split(X_poly, y, random_state = 42) \n",
    "\n",
    "lr = LinearRegression()"
   ]
  },
  {
   "cell_type": "code",
   "execution_count": null,
   "metadata": {},
   "outputs": [],
   "source": [
    "# fit the model\n",
    "lr.fit(X_train, y_train)"
   ]
  },
  {
   "cell_type": "code",
   "execution_count": null,
   "metadata": {},
   "outputs": [],
   "source": [
    "# score the model\n",
    "lr.score(X_test, y_test)"
   ]
  },
  {
   "cell_type": "code",
   "execution_count": null,
   "metadata": {},
   "outputs": [],
   "source": [
    "# Load the test data, clean it, then predict salesprice using model developed above\n",
    "ames_test = pd.read_csv('../data/test.csv')"
   ]
  },
  {
   "cell_type": "code",
   "execution_count": null,
   "metadata": {},
   "outputs": [],
   "source": [
    "inspect_data(ames_test)"
   ]
  },
  {
   "cell_type": "code",
   "execution_count": null,
   "metadata": {},
   "outputs": [],
   "source": [
    "clean_ames_data(ames_test)"
   ]
  },
  {
   "cell_type": "code",
   "execution_count": null,
   "metadata": {},
   "outputs": [],
   "source": [
    "ames_test = pd.get_dummies(ames_test, columns = ['neighborhood', 'bldg_type', 'house_style'], drop_first = True)"
   ]
  },
  {
   "cell_type": "code",
   "execution_count": null,
   "metadata": {},
   "outputs": [],
   "source": [
    "ames_test.align(ames, join = 'inner')\n",
    "inspect_data(ames_test)"
   ]
  },
  {
   "cell_type": "code",
   "execution_count": null,
   "metadata": {},
   "outputs": [],
   "source": [
    "X_ames_test = ames_test[features]\n",
    "X_ames_test_poly = poly.fit_transform(X_ames_test)"
   ]
  },
  {
   "cell_type": "code",
   "execution_count": null,
   "metadata": {},
   "outputs": [],
   "source": [
    "ames_test['salesprice_hat'] = lr.predict(X_ames_test_poly)"
   ]
  },
  {
   "cell_type": "code",
   "execution_count": null,
   "metadata": {},
   "outputs": [],
   "source": [
    "ames_test.head()"
   ]
  },
  {
   "cell_type": "code",
   "execution_count": null,
   "metadata": {},
   "outputs": [],
   "source": [
    "ames_test.shape"
   ]
  },
  {
   "cell_type": "code",
   "execution_count": null,
   "metadata": {},
   "outputs": [],
   "source": [
    "# Re-format Id and SalePrice columns to meet Kaggle requirements\n",
    "ames_test.rename({'id': 'Id', 'salesprice_hat': 'SalePrice'}, axis = 1, inplace = True)"
   ]
  },
  {
   "cell_type": "code",
   "execution_count": null,
   "metadata": {},
   "outputs": [],
   "source": [
    "predictions = ames_test[['Id','SalePrice']].to_csv('../data/submission_8.csv', index = False)"
   ]
  },
  {
   "cell_type": "code",
   "execution_count": null,
   "metadata": {},
   "outputs": [],
   "source": []
  }
 ],
 "metadata": {
  "kernelspec": {
   "display_name": "Python [conda env:dsi]",
   "language": "python",
   "name": "conda-env-dsi-py"
  },
  "language_info": {
   "codemirror_mode": {
    "name": "ipython",
    "version": 3
   },
   "file_extension": ".py",
   "mimetype": "text/x-python",
   "name": "python",
   "nbconvert_exporter": "python",
   "pygments_lexer": "ipython3",
   "version": "3.6.5"
  }
 },
 "nbformat": 4,
 "nbformat_minor": 2
}
